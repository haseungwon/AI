{
 "cells": [
  {
   "cell_type": "markdown",
   "metadata": {},
   "source": []
  },
  {
   "cell_type": "code",
   "execution_count": 1,
   "metadata": {},
   "outputs": [
    {
     "name": "stderr",
     "output_type": "stream",
     "text": [
      "/home/ha/anaconda3/envs/self/lib/python3.10/site-packages/torchvision/io/image.py:13: UserWarning: Failed to load image Python extension: /home/ha/anaconda3/envs/self/lib/python3.10/site-packages/torchvision/image.so: undefined symbol: _ZN5torch3jit17parseSchemaOrNameERKNSt7__cxx1112basic_stringIcSt11char_traitsIcESaIcEEE\n",
      "  warn(f\"Failed to load image Python extension: {e}\")\n"
     ]
    }
   ],
   "source": [
    "import pandas as pd\n",
    "import matplotlib as plt\n",
    "import torch\n",
    "import torch.nn as nn\n",
    "import torchvision\n",
    "import torchvision.transforms as transforms"
   ]
  },
  {
   "attachments": {},
   "cell_type": "markdown",
   "metadata": {},
   "source": [
    "Device 설정 방법"
   ]
  },
  {
   "cell_type": "code",
   "execution_count": 2,
   "metadata": {},
   "outputs": [
    {
     "data": {
      "text/plain": [
       "\"device = torch.device('cuda' if torch.cuda.is_available() else 'cpu')\\nmodel = Net()\\nif torch.cuda.device_count() > 1:\\n    model = nn.DataParallel(net)\\nmodel.to(device)\""
      ]
     },
     "execution_count": 2,
     "metadata": {},
     "output_type": "execute_result"
    }
   ],
   "source": [
    "\n",
    "# GPU 하나\n",
    "device = torch.device('cuda:0' if torch.cuda.is_available() else 'cpu')\n",
    "# GPU 여러개\n",
    "# torch.cuda.device_count()\n",
    "\"\"\"device = torch.device('cuda' if torch.cuda.is_available() else 'cpu')\n",
    "model = Net()\n",
    "if torch.cuda.device_count() > 1:\n",
    "    model = nn.DataParallel(net)\n",
    "model.to(device)\"\"\""
   ]
  },
  {
   "attachments": {},
   "cell_type": "markdown",
   "metadata": {},
   "source": [
    "Transform 설정 방식"
   ]
  },
  {
   "cell_type": "code",
   "execution_count": 3,
   "metadata": {},
   "outputs": [],
   "source": [
    "transform = transforms.Compose([\n",
    "    transforms.Resize([244,244]),\n",
    "    transforms.ToTensor()\n",
    "])"
   ]
  },
  {
   "attachments": {},
   "cell_type": "markdown",
   "metadata": {},
   "source": [
    "Pretrained Model 가져오기"
   ]
  },
  {
   "cell_type": "code",
   "execution_count": 4,
   "metadata": {},
   "outputs": [
    {
     "name": "stderr",
     "output_type": "stream",
     "text": [
      "/home/ha/anaconda3/envs/self/lib/python3.10/site-packages/torchvision/models/_utils.py:208: UserWarning: The parameter 'pretrained' is deprecated since 0.13 and will be removed in 0.15, please use 'weights' instead.\n",
      "  warnings.warn(\n",
      "/home/ha/anaconda3/envs/self/lib/python3.10/site-packages/torchvision/models/_utils.py:223: UserWarning: Arguments other than a weight enum or `None` for 'weights' are deprecated since 0.13 and will be removed in 0.15. The current behavior is equivalent to passing `weights=ResNet18_Weights.IMAGENET1K_V1`. You can also use `weights=ResNet18_Weights.DEFAULT` to get the most up-to-date weights.\n",
      "  warnings.warn(msg)\n"
     ]
    }
   ],
   "source": [
    "import torchvision.models as models\n",
    "model = models.resnet18(pretrained = True)"
   ]
  },
  {
   "attachments": {},
   "cell_type": "markdown",
   "metadata": {},
   "source": [
    "Summary 사용 예시"
   ]
  },
  {
   "cell_type": "code",
   "execution_count": 5,
   "metadata": {},
   "outputs": [
    {
     "name": "stdout",
     "output_type": "stream",
     "text": [
      "----------------------------------------------------------------\n",
      "        Layer (type)               Output Shape         Param #\n",
      "================================================================\n",
      "            Conv2d-1         [-1, 64, 144, 144]           9,408\n",
      "       BatchNorm2d-2         [-1, 64, 144, 144]             128\n",
      "              ReLU-3         [-1, 64, 144, 144]               0\n",
      "         MaxPool2d-4           [-1, 64, 72, 72]               0\n",
      "            Conv2d-5           [-1, 64, 72, 72]          36,864\n",
      "       BatchNorm2d-6           [-1, 64, 72, 72]             128\n",
      "              ReLU-7           [-1, 64, 72, 72]               0\n",
      "            Conv2d-8           [-1, 64, 72, 72]          36,864\n",
      "       BatchNorm2d-9           [-1, 64, 72, 72]             128\n",
      "             ReLU-10           [-1, 64, 72, 72]               0\n",
      "       BasicBlock-11           [-1, 64, 72, 72]               0\n",
      "           Conv2d-12           [-1, 64, 72, 72]          36,864\n",
      "      BatchNorm2d-13           [-1, 64, 72, 72]             128\n",
      "             ReLU-14           [-1, 64, 72, 72]               0\n",
      "           Conv2d-15           [-1, 64, 72, 72]          36,864\n",
      "      BatchNorm2d-16           [-1, 64, 72, 72]             128\n",
      "             ReLU-17           [-1, 64, 72, 72]               0\n",
      "       BasicBlock-18           [-1, 64, 72, 72]               0\n",
      "           Conv2d-19          [-1, 128, 36, 36]          73,728\n",
      "      BatchNorm2d-20          [-1, 128, 36, 36]             256\n",
      "             ReLU-21          [-1, 128, 36, 36]               0\n",
      "           Conv2d-22          [-1, 128, 36, 36]         147,456\n",
      "      BatchNorm2d-23          [-1, 128, 36, 36]             256\n",
      "           Conv2d-24          [-1, 128, 36, 36]           8,192\n",
      "      BatchNorm2d-25          [-1, 128, 36, 36]             256\n",
      "             ReLU-26          [-1, 128, 36, 36]               0\n",
      "       BasicBlock-27          [-1, 128, 36, 36]               0\n",
      "           Conv2d-28          [-1, 128, 36, 36]         147,456\n",
      "      BatchNorm2d-29          [-1, 128, 36, 36]             256\n",
      "             ReLU-30          [-1, 128, 36, 36]               0\n",
      "           Conv2d-31          [-1, 128, 36, 36]         147,456\n",
      "      BatchNorm2d-32          [-1, 128, 36, 36]             256\n",
      "             ReLU-33          [-1, 128, 36, 36]               0\n",
      "       BasicBlock-34          [-1, 128, 36, 36]               0\n",
      "           Conv2d-35          [-1, 256, 18, 18]         294,912\n",
      "      BatchNorm2d-36          [-1, 256, 18, 18]             512\n",
      "             ReLU-37          [-1, 256, 18, 18]               0\n",
      "           Conv2d-38          [-1, 256, 18, 18]         589,824\n",
      "      BatchNorm2d-39          [-1, 256, 18, 18]             512\n",
      "           Conv2d-40          [-1, 256, 18, 18]          32,768\n",
      "      BatchNorm2d-41          [-1, 256, 18, 18]             512\n",
      "             ReLU-42          [-1, 256, 18, 18]               0\n",
      "       BasicBlock-43          [-1, 256, 18, 18]               0\n",
      "           Conv2d-44          [-1, 256, 18, 18]         589,824\n",
      "      BatchNorm2d-45          [-1, 256, 18, 18]             512\n",
      "             ReLU-46          [-1, 256, 18, 18]               0\n",
      "           Conv2d-47          [-1, 256, 18, 18]         589,824\n",
      "      BatchNorm2d-48          [-1, 256, 18, 18]             512\n",
      "             ReLU-49          [-1, 256, 18, 18]               0\n",
      "       BasicBlock-50          [-1, 256, 18, 18]               0\n",
      "           Conv2d-51            [-1, 512, 9, 9]       1,179,648\n",
      "      BatchNorm2d-52            [-1, 512, 9, 9]           1,024\n",
      "             ReLU-53            [-1, 512, 9, 9]               0\n",
      "           Conv2d-54            [-1, 512, 9, 9]       2,359,296\n",
      "      BatchNorm2d-55            [-1, 512, 9, 9]           1,024\n",
      "           Conv2d-56            [-1, 512, 9, 9]         131,072\n",
      "      BatchNorm2d-57            [-1, 512, 9, 9]           1,024\n",
      "             ReLU-58            [-1, 512, 9, 9]               0\n",
      "       BasicBlock-59            [-1, 512, 9, 9]               0\n",
      "           Conv2d-60            [-1, 512, 9, 9]       2,359,296\n",
      "      BatchNorm2d-61            [-1, 512, 9, 9]           1,024\n",
      "             ReLU-62            [-1, 512, 9, 9]               0\n",
      "           Conv2d-63            [-1, 512, 9, 9]       2,359,296\n",
      "      BatchNorm2d-64            [-1, 512, 9, 9]           1,024\n",
      "             ReLU-65            [-1, 512, 9, 9]               0\n",
      "       BasicBlock-66            [-1, 512, 9, 9]               0\n",
      "AdaptiveAvgPool2d-67            [-1, 512, 1, 1]               0\n",
      "           Linear-68                 [-1, 1000]         513,000\n",
      "================================================================\n",
      "Total params: 11,689,512\n",
      "Trainable params: 11,689,512\n",
      "Non-trainable params: 0\n",
      "----------------------------------------------------------------\n",
      "Input size (MB): 0.95\n",
      "Forward/backward pass size (MB): 103.79\n",
      "Params size (MB): 44.59\n",
      "Estimated Total Size (MB): 149.33\n",
      "----------------------------------------------------------------\n"
     ]
    }
   ],
   "source": [
    "from torchsummary import summary\n",
    "model.to(device)\n",
    "summary(model,input_size=(3,288,288))"
   ]
  },
  {
   "cell_type": "code",
   "execution_count": 6,
   "metadata": {},
   "outputs": [
    {
     "name": "stdout",
     "output_type": "stream",
     "text": [
      "The model has 11689512 trainable parameters\n"
     ]
    }
   ],
   "source": [
    "def count_parameters(model):\n",
    "    return sum(p.numel() for p in model.parameters() if p.requires_grad)\n",
    "\n",
    "print('The model has {} trainable parameters'.format(count_parameters(model)))"
   ]
  },
  {
   "attachments": {},
   "cell_type": "markdown",
   "metadata": {},
   "source": [
    "Forward 함수에서 conv layer에서 fc layer 연결시 (batch_size, W\\*H\\*C) 형식으로 전환하는 방법"
   ]
  },
  {
   "cell_type": "code",
   "execution_count": 7,
   "metadata": {},
   "outputs": [],
   "source": [
    "def foward(self, x):\n",
    "    out = self.features(x)\n",
    "    # 방법 1.\n",
    "    # out = out.view(out.size(0),-1) # (batch_size, 나머지:32*53*53)\n",
    "    # 방법 2.\n",
    "    #out = torch.flatten(out,1) # 첫번쨰는 batch_size이니까~\n",
    "    # 방법 3.\n",
    "    #out = out.view(out.shape[0],-1)\n",
    "    out = self.fc(out)\n",
    "    return out"
   ]
  },
  {
   "cell_type": "code",
   "execution_count": null,
   "metadata": {},
   "outputs": [],
   "source": []
  }
 ],
 "metadata": {
  "kernelspec": {
   "display_name": "self",
   "language": "python",
   "name": "python3"
  },
  "language_info": {
   "codemirror_mode": {
    "name": "ipython",
    "version": 3
   },
   "file_extension": ".py",
   "mimetype": "text/x-python",
   "name": "python",
   "nbconvert_exporter": "python",
   "pygments_lexer": "ipython3",
   "version": "3.10.8"
  },
  "orig_nbformat": 4,
  "vscode": {
   "interpreter": {
    "hash": "ca1393ca72916ec0733d2ed243a44f77efd842c1212a40384120ea0a56403e11"
   }
  }
 },
 "nbformat": 4,
 "nbformat_minor": 2
}
