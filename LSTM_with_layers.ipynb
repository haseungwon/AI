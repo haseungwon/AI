{
 "cells": [
  {
   "cell_type": "code",
   "execution_count": 29,
   "metadata": {},
   "outputs": [],
   "source": [
    "import os\n",
    "import time\n",
    "\n",
    "import numpy as np\n",
    "import pandas as pd\n",
    "import matplotlib.pyplot as plt\n",
    "\n",
    "import torch\n",
    "import torch.nn as nn\n",
    "from torch.utils.data import TensorDataset, DataLoader\n",
    "from torch.autograd import Variable\n",
    "from tqdm import tqdm_notebook\n",
    "from sklearn.preprocessing import StandardScaler, MinMaxScaler\n",
    "from sklearn.model_selection import train_test_split  \n",
    "\n",
    "device = torch.device('cuda:0' if torch.cuda.is_available() else 'cpu')"
   ]
  },
  {
   "cell_type": "code",
   "execution_count": 31,
   "metadata": {},
   "outputs": [
    {
     "name": "stdout",
     "output_type": "stream",
     "text": [
      "Date          object\n",
      "Open         float64\n",
      "High         float64\n",
      "Low          float64\n",
      "Close        float64\n",
      "Adj Close    float64\n",
      "Volume         int64\n",
      "dtype: object\n",
      "         Date   Open    High     Low   Close  Adj Close    Volume\n",
      "0  2010-01-04  11.66  11.665  11.455  11.525   9.256213  16370000\n",
      "1  2010-01-05  11.48  12.000  11.445  11.795   9.473062  30058800\n",
      "2  2010-01-06  11.74  11.810  11.630  11.710   9.404798  14209600\n",
      "3  2010-01-07  11.64  11.765  11.595  11.680   9.380702  10256000\n",
      "4  2010-01-08  11.60  11.800  11.595  11.640   9.348577  10274800\n"
     ]
    }
   ],
   "source": [
    "data = pd.read_csv('./data/SB/SBUX .csv')\n",
    "print(data.dtypes)\n",
    "print(data.head())"
   ]
  },
  {
   "cell_type": "code",
   "execution_count": 32,
   "metadata": {},
   "outputs": [],
   "source": [
    "data['Date'] = pd.to_datetime(data['Date'])\n",
    "data.set_index('Date', inplace=True)"
   ]
  },
  {
   "cell_type": "code",
   "execution_count": 33,
   "metadata": {},
   "outputs": [],
   "source": [
    "data['Volume'] = data['Volume'].astype(float)"
   ]
  },
  {
   "cell_type": "code",
   "execution_count": 34,
   "metadata": {},
   "outputs": [],
   "source": [
    "x = data.iloc[:,:-1]\n",
    "y = data.iloc[:,5:6]"
   ]
  },
  {
   "cell_type": "code",
   "execution_count": 35,
   "metadata": {},
   "outputs": [
    {
     "name": "stdout",
     "output_type": "stream",
     "text": [
      "                Volume\n",
      "Date                  \n",
      "2010-01-04  16370000.0\n",
      "2010-01-05  30058800.0\n",
      "2010-01-06  14209600.0\n",
      "2010-01-07  10256000.0\n",
      "2010-01-08  10274800.0\n",
      "...                ...\n",
      "2022-12-27   4402500.0\n",
      "2022-12-28   3491500.0\n",
      "2022-12-29   3976100.0\n",
      "2022-12-30   3987800.0\n",
      "2023-01-03   6606000.0\n",
      "\n",
      "[3273 rows x 1 columns]\n"
     ]
    }
   ],
   "source": [
    "print(y)"
   ]
  },
  {
   "cell_type": "code",
   "execution_count": 37,
   "metadata": {},
   "outputs": [
    {
     "name": "stdout",
     "output_type": "stream",
     "text": [
      "Training Shape (2873, 5) (2873, 1)\n",
      "Testing Shape (400, 5) (400, 1)\n"
     ]
    }
   ],
   "source": [
    "ms = MinMaxScaler()\n",
    "ss = StandardScaler()\n",
    "\n",
    "x_ss = ss.fit_transform(x)\n",
    "y_ms = ms.fit_transform(y)\n",
    "\n",
    "x_train = x_ss[:-400,:]\n",
    "x_test = x_ss[-400:,:]\n",
    "y_train = y_ms[:-400,:]\n",
    "y_test = y_ms[-400:,:]\n",
    "\n",
    "print('Training Shape', x_train.shape,y_train.shape)\n",
    "print('Testing Shape', x_test.shape,y_test.shape)"
   ]
  },
  {
   "cell_type": "code",
   "execution_count": 39,
   "metadata": {},
   "outputs": [],
   "source": [
    "x_train_tensors = Variable(torch.Tensor(x_train))\n",
    "x_test_tensors = Variable(torch.Tensor(x_test))\n",
    "y_train_tensors = Variable(torch.Tensor(y_train))\n",
    "y_test_tensors = Variable(torch.Tensor(y_test))"
   ]
  },
  {
   "cell_type": "code",
   "execution_count": 41,
   "metadata": {},
   "outputs": [],
   "source": [
    "x_train_tensors_f = torch.reshape(x_train_tensors,(x_train_tensors.shape[0],1,x_train_tensors.shape[1]))\n",
    "x_test_tensors_f = torch.reshape(x_test_tensors,(x_test_tensors.shape[0],1,x_test_tensors.shape[1]))"
   ]
  },
  {
   "cell_type": "code",
   "execution_count": null,
   "metadata": {},
   "outputs": [],
   "source": []
  }
 ],
 "metadata": {
  "kernelspec": {
   "display_name": "self",
   "language": "python",
   "name": "python3"
  },
  "language_info": {
   "codemirror_mode": {
    "name": "ipython",
    "version": 3
   },
   "file_extension": ".py",
   "mimetype": "text/x-python",
   "name": "python",
   "nbconvert_exporter": "python",
   "pygments_lexer": "ipython3",
   "version": "3.10.8"
  },
  "orig_nbformat": 4,
  "vscode": {
   "interpreter": {
    "hash": "ca1393ca72916ec0733d2ed243a44f77efd842c1212a40384120ea0a56403e11"
   }
  }
 },
 "nbformat": 4,
 "nbformat_minor": 2
}
